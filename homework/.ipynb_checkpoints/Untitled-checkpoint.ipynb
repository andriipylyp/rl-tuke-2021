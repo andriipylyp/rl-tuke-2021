{
 "cells": [
  {
   "cell_type": "markdown",
   "metadata": {},
   "source": [
    "##    libs initialization"
   ]
  },
  {
   "cell_type": "code",
   "execution_count": 4,
   "metadata": {},
   "outputs": [],
   "source": [
    "import gym\n",
    "import numpy as np\n",
    "from IPython.display import display, clear_output\n",
    "import time\n",
    "import matplotlib.pyplot as plt"
   ]
  },
  {
   "cell_type": "markdown",
   "metadata": {},
   "source": [
    "##    environment initialization"
   ]
  },
  {
   "cell_type": "code",
   "execution_count": 5,
   "metadata": {},
   "outputs": [],
   "source": [
    "env = gym.make('Taxi-v3')"
   ]
  },
  {
   "cell_type": "code",
   "execution_count": 25,
   "metadata": {},
   "outputs": [],
   "source": [
    "def getScore(table):\n",
    "    score = 0\n",
    "    env_s = gym.make('Taxi-v3')\n",
    "    state = env_s.reset()\n",
    "    for step in range(steps):\n",
    "        action = np.argmax(table[state,:])\n",
    "\n",
    "        new_state, reward, isDone, _ = env_s.step(action)\n",
    "\n",
    "        state = new_state\n",
    "        score += reward\n",
    "        if isDone == True:\n",
    "            break\n",
    "    return score\n",
    "    "
   ]
  },
  {
   "cell_type": "markdown",
   "metadata": {},
   "source": [
    "##    Q-table initialization"
   ]
  },
  {
   "cell_type": "code",
   "execution_count": 6,
   "metadata": {},
   "outputs": [],
   "source": [
    "action_size = env.action_space.n\n",
    "state_size = env.observation_space.n\n",
    "q_table = np.zeros((state_size, action_size))"
   ]
  },
  {
   "cell_type": "markdown",
   "metadata": {},
   "source": [
    "## Q-Learning procedure"
   ]
  },
  {
   "cell_type": "code",
   "execution_count": 48,
   "metadata": {
    "scrolled": true
   },
   "outputs": [
    {
     "name": "stdout",
     "output_type": "stream",
     "text": [
      "Execution time: 0.31898951530456543 seconds\n"
     ]
    }
   ],
   "source": [
    "exploration_rate = 1\n",
    "\n",
    "learning_rate = 0.6\n",
    "discount_rate = 0.6\n",
    "\n",
    "decay_rate = 0.01\n",
    "\n",
    "steps = 100\n",
    "episodes = 10\n",
    "\n",
    "results = []\n",
    "start_time = time.time()\n",
    "for episode in range(episodes):\n",
    "    state = env.reset()\n",
    "    for step in range(steps):\n",
    "        if np.random.random() < exploration_rate:\n",
    "            action = env.action_space.sample()\n",
    "        else:\n",
    "            action = np.argmax(q_table[state,:])\n",
    "            \n",
    "        new_state, reward, isDone, _ = env.step(action)\n",
    "        \n",
    "        #bellman equation\n",
    "        q_table[state, action] = q_table[state, action] + learning_rate * (reward + discount_rate * \n",
    "                                                        np.max(q_table[new_state,:]) - q_table[state,action])\n",
    "        \n",
    "        state = new_state\n",
    "        if isDone == True:\n",
    "            break\n",
    "    results.append(getScore(q_table))\n",
    "    \n",
    "    exploration_rate = exploration_rate - 0.001*np.exp(-decay_rate*episode)\n",
    "\n",
    "print(\"Execution time: {0} seconds\".format(time.time() - start_time))\n"
   ]
  },
  {
   "cell_type": "markdown",
   "metadata": {},
   "source": [
    "## Q-table evaluation"
   ]
  },
  {
   "cell_type": "code",
   "execution_count": 50,
   "metadata": {},
   "outputs": [
    {
     "data": {
      "image/png": "[encoded data removed]",
      "text/plain": [
       "<Figure size 432x288 with 1 Axes>"
      ]
     },
     "metadata": {
      "needs_background": "light"
     },
     "output_type": "display_data"
    }
   ],
   "source": [
    "plt.plot(results)\n",
    "plt.xlabel(\"episodes\")\n",
    "plt.ylabel(\"scores\")\n",
    "plt.show()"
   ]
  },
  {
   "cell_type": "code",
   "execution_count": 20,
   "metadata": {},
   "outputs": [
    {
     "name": "stdout",
     "output_type": "stream",
     "text": [
      "+---------+\n",
      "|\u001b[34;1m\u001b[43mR\u001b[0m\u001b[0m: | : :G|\n",
      "| : | : : |\n",
      "| : : : : |\n",
      "| | : | : |\n",
      "|\u001b[35mY\u001b[0m| : |B: |\n",
      "+---------+\n",
      "  (West)\n"
     ]
    },
    {
     "data": {
      "text/plain": [
       "None"
      ]
     },
     "metadata": {},
     "output_type": "display_data"
    },
    {
     "ename": "KeyboardInterrupt",
     "evalue": "",
     "output_type": "error",
     "traceback": [
      "\u001b[1;31m---------------------------------------------------------------------------\u001b[0m",
      "\u001b[1;31mKeyboardInterrupt\u001b[0m                         Traceback (most recent call last)",
      "\u001b[1;32m<ipython-input-20-a1608f0be9b8>\u001b[0m in \u001b[0;36m<module>\u001b[1;34m\u001b[0m\n\u001b[0;32m     13\u001b[0m         \u001b[0mclear_output\u001b[0m\u001b[1;33m(\u001b[0m\u001b[1;33m)\u001b[0m\u001b[1;33m\u001b[0m\u001b[1;33m\u001b[0m\u001b[0m\n\u001b[0;32m     14\u001b[0m         \u001b[0mdisplay\u001b[0m\u001b[1;33m(\u001b[0m\u001b[0menv\u001b[0m\u001b[1;33m.\u001b[0m\u001b[0mrender\u001b[0m\u001b[1;33m(\u001b[0m\u001b[1;33m)\u001b[0m\u001b[1;33m)\u001b[0m\u001b[1;33m\u001b[0m\u001b[1;33m\u001b[0m\u001b[0m\n\u001b[1;32m---> 15\u001b[1;33m         \u001b[0mtime\u001b[0m\u001b[1;33m.\u001b[0m\u001b[0msleep\u001b[0m\u001b[1;33m(\u001b[0m\u001b[1;36m0.7\u001b[0m\u001b[1;33m)\u001b[0m\u001b[1;33m\u001b[0m\u001b[1;33m\u001b[0m\u001b[0m\n\u001b[0m",
      "\u001b[1;31mKeyboardInterrupt\u001b[0m: "
     ]
    }
   ],
   "source": [
    "for episode in range(10):\n",
    "    state = env.reset()\n",
    "    for step in range(steps):\n",
    "        action = np.argmax(q_table[state,:])\n",
    "\n",
    "        new_state, reward, isDone, _ = env.step(action)\n",
    "\n",
    "        if isDone == True:\n",
    "            break\n",
    "\n",
    "        state = new_state\n",
    "\n",
    "        clear_output()\n",
    "        display(env.render())\n",
    "        time.sleep(0.7)"
   ]
  },
  {
   "cell_type": "markdown",
   "metadata": {},
   "source": [
    "## SARSA-table initialization"
   ]
  },
  {
   "cell_type": "code",
   "execution_count": 9,
   "metadata": {},
   "outputs": [],
   "source": [
    "action_size = env.action_space.n\n",
    "state_size = env.observation_space.n\n",
    "sarsa_table = np.zeros((state_size, action_size))"
   ]
  },
  {
   "cell_type": "markdown",
   "metadata": {},
   "source": [
    "## SARSA-learning procedure"
   ]
  },
  {
   "cell_type": "code",
   "execution_count": 51,
   "metadata": {},
   "outputs": [
    {
     "name": "stdout",
     "output_type": "stream",
     "text": [
      "Execution time: 0.0818018913269043 seconds\n"
     ]
    }
   ],
   "source": [
    "exploration_rate = 1\n",
    "\n",
    "learning_rate = 0.6\n",
    "discount_rate = 0.6\n",
    "\n",
    "decay_rate = 0.01\n",
    "\n",
    "steps = 100\n",
    "episodes = 10\n",
    "\n",
    "results_sars = []\n",
    "start_time = time.time()\n",
    "for episode in range(episodes):\n",
    "    state = env.reset()\n",
    "    for step in range(steps):\n",
    "        #a\n",
    "        if np.random.random() < exploration_rate:\n",
    "            action = env.action_space.sample()\n",
    "            \n",
    "        new_state, reward, isDone, _ = env.step(action)\n",
    "        \n",
    "        #a'\n",
    "        new_action = np.argmax(sarsa_table[new_state,:])\n",
    "        \n",
    "        #bellman equation but target policy is always same as Behavior policy\n",
    "        sarsa_table[state, action] = sarsa_table[state, action] + learning_rate * (reward + discount_rate * sarsa_table[new_state,new_action] - sarsa_table[state,action])\n",
    "        \n",
    "        state = new_state\n",
    "        action = new_action\n",
    "        if isDone == True:\n",
    "            break\n",
    "    results_sars.append(getScore(sarsa_table))\n",
    "    \n",
    "    exploration_rate = exploration_rate - 0.001*np.exp(-decay_rate*episode)\n",
    "\n",
    "print(\"Execution time: {0} seconds\".format(time.time() - start_time))"
   ]
  },
  {
   "cell_type": "code",
   "execution_count": 52,
   "metadata": {},
   "outputs": [
    {
     "data": {
      "image/png": "[encoded data removed]",
      "text/plain": [
       "<Figure size 432x288 with 1 Axes>"
      ]
     },
     "metadata": {
      "needs_background": "light"
     },
     "output_type": "display_data"
    }
   ],
   "source": [
    "plt.plot(results_sars)\n",
    "plt.xlabel(\"episodes\")\n",
    "plt.ylabel(\"scores\")\n",
    "plt.show()"
   ]
  },
  {
   "cell_type": "markdown",
   "metadata": {},
   "source": [
    "## SARSA evaluation"
   ]
  },
  {
   "cell_type": "code",
   "execution_count": 30,
   "metadata": {},
   "outputs": [
    {
     "name": "stdout",
     "output_type": "stream",
     "text": [
      "+---------+\n",
      "|\u001b[35m\u001b[34;1m\u001b[43mR\u001b[0m\u001b[0m\u001b[0m: | : :G|\n",
      "| : | : : |\n",
      "| : : : : |\n",
      "| | : | : |\n",
      "|Y| : |B: |\n",
      "+---------+\n",
      "  (Dropoff)\n"
     ]
    },
    {
     "data": {
      "text/plain": [
       "None"
      ]
     },
     "metadata": {},
     "output_type": "display_data"
    }
   ],
   "source": [
    "state = env.reset()\n",
    "for step in range(steps):\n",
    "    action = np.argmax(sarsa_table[state,:])\n",
    "\n",
    "    new_state, reward, isDone, _ = env.step(action)\n",
    "\n",
    "    state = new_state\n",
    "    \n",
    "    clear_output()\n",
    "    display(env.render())\n",
    "    time.sleep(0.7)\n",
    "    if isDone == True:\n",
    "        break"
   ]
  },
  {
   "cell_type": "markdown",
   "metadata": {},
   "source": [
    "## Double Q-Learning table initialization "
   ]
  },
  {
   "cell_type": "code",
   "execution_count": 34,
   "metadata": {},
   "outputs": [],
   "source": [
    "action_size = env.action_space.n\n",
    "state_size = env.observation_space.n\n",
    "dq_table1 = np.zeros((state_size, action_size))\n",
    "dq_table2 = np.zeros((state_size, action_size))"
   ]
  },
  {
   "cell_type": "markdown",
   "metadata": {},
   "source": [
    "## Double Q-Learning procedure"
   ]
  },
  {
   "cell_type": "code",
   "execution_count": 45,
   "metadata": {},
   "outputs": [
    {
     "name": "stdout",
     "output_type": "stream",
     "text": [
      "Execution time: 30.294393062591553 seconds\n"
     ]
    }
   ],
   "source": [
    "exploration_rate = 1\n",
    "\n",
    "learning_rate = 0.6\n",
    "discount_rate = 0.6\n",
    "\n",
    "decay_rate = 0.01\n",
    "\n",
    "steps = 100\n",
    "episodes = 10\n",
    "\n",
    "results_dq1 = []\n",
    "results_dq2 = []\n",
    "start_time = time.time()\n",
    "for episode in range(episodes):\n",
    "    state = env.reset()\n",
    "    for step in range(steps):\n",
    "        table = 1 if np.random.random() > 0.5 else 2\n",
    "        if table == 1:\n",
    "            #a\n",
    "            if np.random.random() < exploration_rate:\n",
    "                action = env.action_space.sample()\n",
    "            else:\n",
    "                action = np.argmax(dq_table1[state,:])\n",
    "            new_state, reward, isDone, _ = env.step(action)\n",
    "            #a'\n",
    "            new_action = np.argmax(dq_table1[new_state,:])\n",
    "            \n",
    "            dq_table1[state, action] = dq_table1[state, action] + learning_rate * (reward + discount_rate * \n",
    "                                                        dq_table2[new_state,new_action] - dq_table1[state,action])\n",
    "        elif table == 2:\n",
    "            #a\n",
    "            if np.random.random() < exploration_rate:\n",
    "                action = env.action_space.sample()\n",
    "            else:\n",
    "                action = np.argmax(dq_table2[state,:])\n",
    "            new_state, reward, isDone, _ = env.step(action)\n",
    "            #a'\n",
    "            new_action = np.argmax(dq_table2[new_state,:])\n",
    "            \n",
    "            dq_table2[state, action] = dq_table2[state, action] + learning_rate * (reward + discount_rate * \n",
    "                                                        dq_table1[new_state,new_action] - dq_table2[state,action])\n",
    "\n",
    "        state = new_state\n",
    "        if isDone == True:\n",
    "            break\n",
    "    results_dq1.append(getScore(dq_table1))\n",
    "    results_dq2.append(getScore(dq_table2))\n",
    "    \n",
    "    exploration_rate = exploration_rate - 0.001*np.exp(-decay_rate*episode)\n",
    "print(\"Execution time: {0} seconds\".format(time.time() - start_time))"
   ]
  },
  {
   "cell_type": "code",
   "execution_count": 39,
   "metadata": {},
   "outputs": [
    {
     "data": {
      "image/png": "[encoded data removed]",
      "text/plain": [
       "<Figure size 432x288 with 1 Axes>"
      ]
     },
     "metadata": {
      "needs_background": "light"
     },
     "output_type": "display_data"
    }
   ],
   "source": [
    "plt.plot(results_dq1)\n",
    "plt.xlabel(\"episodes\")\n",
    "plt.ylabel(\"scores\")\n",
    "plt.show()"
   ]
  },
  {
   "cell_type": "code",
   "execution_count": 40,
   "metadata": {},
   "outputs": [
    {
     "data": {
      "image/png": "[encoded data removed]",
      "text/plain": [
       "<Figure size 432x288 with 1 Axes>"
      ]
     },
     "metadata": {
      "needs_background": "light"
     },
     "output_type": "display_data"
    }
   ],
   "source": [
    "plt.plot(results_dq2)\n",
    "plt.xlabel(\"episodes\")\n",
    "plt.ylabel(\"scores\")\n",
    "plt.show()"
   ]
  },
  {
   "cell_type": "code",
   "execution_count": null,
   "metadata": {},
   "outputs": [],
   "source": []
  }
 ],
 "metadata": {
  "kernelspec": {
   "display_name": "Python 3",
   "language": "python",
   "name": "python3"
  },
  "language_info": {
   "codemirror_mode": {
    "name": "ipython",
    "version": 3
   },
   "file_extension": ".py",
   "mimetype": "text/x-python",
   "name": "python",
   "nbconvert_exporter": "python",
   "pygments_lexer": "ipython3",
   "version": "3.8.5"
  }
 },
 "nbformat": 4,
 "nbformat_minor": 4
}
